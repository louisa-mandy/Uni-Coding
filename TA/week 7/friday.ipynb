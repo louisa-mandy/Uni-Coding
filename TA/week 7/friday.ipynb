{
 "cells": [
  {
   "cell_type": "code",
   "execution_count": null,
   "metadata": {},
   "outputs": [],
   "source": [
    "class Solution(object)\n",
    "    def isAnagram(self, s, t): \n",
    "        if len(s) != lem(t):\n",
    "            return false \n",
    "\n",
    "        sorted1 = {}\n",
    "        sorted2 = {}\n",
    "        \n",
    "        for i in range(len(s)):\n",
    "            sorted1[s[i]] = 1 + count.get(s[i], 0)\n",
    "            sorted2[s[i]] = 1 + count.get(s[i], 0)"
   ]
  },
  {
   "cell_type": "code",
   "execution_count": null,
   "metadata": {},
   "outputs": [],
   "source": [
    "class Solution(object):\n",
    "    def twoSum(self, nums, target):\n",
    "        "
   ]
  },
  {
   "cell_type": "code",
   "execution_count": null,
   "metadata": {},
   "outputs": [],
   "source": []
  }
 ],
 "metadata": {
  "language_info": {
   "name": "python"
  }
 },
 "nbformat": 4,
 "nbformat_minor": 2
}
