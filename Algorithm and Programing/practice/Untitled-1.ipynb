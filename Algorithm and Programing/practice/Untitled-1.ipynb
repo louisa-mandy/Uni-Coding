{
 "cells": [
  {
   "cell_type": "code",
   "execution_count": 2,
   "metadata": {},
   "outputs": [
    {
     "name": "stdout",
     "output_type": "stream",
     "text": [
      "The square root of 5 is 2.23606797749979\n",
      "The square root of 5 is 2.23606797749979\n",
      "The square root of 5 is 2.23606797749979\n"
     ]
    },
    {
     "ename": "ValueError",
     "evalue": "invalid literal for int() with base 10: 'enter the value of a'",
     "output_type": "error",
     "traceback": [
      "\u001b[1;31m---------------------------------------------------------------------------\u001b[0m",
      "\u001b[1;31mValueError\u001b[0m                                Traceback (most recent call last)",
      "\u001b[1;32mc:\\Users\\Louisa Mandy\\OneDrive\\Documents\\Uni Coding\\Algorithm and Programing\\Untitled-1.ipynb Cell 1\u001b[0m line \u001b[0;36m1\n\u001b[0;32m     <a href='vscode-notebook-cell:/c%3A/Users/Louisa%20Mandy/OneDrive/Documents/Uni%20Coding/Algorithm%20and%20Programing/Untitled-1.ipynb#W0sZmlsZQ%3D%3D?line=11'>12</a>\u001b[0m \u001b[39m#printing\u001b[39;00m\n\u001b[0;32m     <a href='vscode-notebook-cell:/c%3A/Users/Louisa%20Mandy/OneDrive/Documents/Uni%20Coding/Algorithm%20and%20Programing/Untitled-1.ipynb#W0sZmlsZQ%3D%3D?line=12'>13</a>\u001b[0m \u001b[39mprint\u001b[39m(\u001b[39m\"\u001b[39m\u001b[39mThe square root of\u001b[39m\u001b[39m\"\u001b[39m,a,\u001b[39m\"\u001b[39m\u001b[39mis\u001b[39m\u001b[39m\"\u001b[39m,aSquareRoot)\n\u001b[1;32m---> <a href='vscode-notebook-cell:/c%3A/Users/Louisa%20Mandy/OneDrive/Documents/Uni%20Coding/Algorithm%20and%20Programing/Untitled-1.ipynb#W0sZmlsZQ%3D%3D?line=14'>15</a>\u001b[0m a \u001b[39m=\u001b[39m \u001b[39minput\u001b[39m(\u001b[39mint\u001b[39;49m(\u001b[39m\"\u001b[39;49m\u001b[39menter the value of a\u001b[39;49m\u001b[39m\"\u001b[39;49m))\n\u001b[0;32m     <a href='vscode-notebook-cell:/c%3A/Users/Louisa%20Mandy/OneDrive/Documents/Uni%20Coding/Algorithm%20and%20Programing/Untitled-1.ipynb#W0sZmlsZQ%3D%3D?line=15'>16</a>\u001b[0m b \u001b[39m=\u001b[39m \u001b[39minput\u001b[39m(\u001b[39mint\u001b[39m(\u001b[39m\"\u001b[39m\u001b[39menter the value of b\u001b[39m\u001b[39m\"\u001b[39m))\n\u001b[0;32m     <a href='vscode-notebook-cell:/c%3A/Users/Louisa%20Mandy/OneDrive/Documents/Uni%20Coding/Algorithm%20and%20Programing/Untitled-1.ipynb#W0sZmlsZQ%3D%3D?line=16'>17</a>\u001b[0m c \u001b[39m=\u001b[39m \u001b[39minput\u001b[39m(\u001b[39mint\u001b[39m(\u001b[39m\"\u001b[39m\u001b[39menter the value of c\u001b[39m\u001b[39m\"\u001b[39m))\n",
      "\u001b[1;31mValueError\u001b[0m: invalid literal for int() with base 10: 'enter the value of a'"
     ]
    }
   ],
   "source": [
    "#Three.types.of.printing\n",
    "import math\n",
    "a = 5\n",
    "\n",
    "#printing.using.the.'f'\n",
    "aSquareRoot = math.sqrt(a)\n",
    "print(f\"The square root of {a} is {aSquareRoot}\")\n",
    "\n",
    "#printing.using.concatanation\n",
    "print(\"The square root of \"+str(a)+\" is \"+str(aSquareRoot))\n",
    "\n",
    "#printing\n",
    "print(\"The square root of\",a,\"is\",aSquareRoot)\n",
    "\n",
    "a = input(int(\"enter the value of a\"))\n",
    "b = input(int(\"enter the value of b\"))\n",
    "c = input(int(\"enter the value of c\"))\n",
    "\n",
    "print(f\"The value of a is {a}\")\n",
    "print(f\"The value of b is {b}\")\n",
    "print(f\"The value of c is {c}\")\n",
    "\n",
    "\n"
   ]
  }
 ],
 "metadata": {
  "kernelspec": {
   "display_name": "Python 3",
   "language": "python",
   "name": "python3"
  },
  "language_info": {
   "codemirror_mode": {
    "name": "ipython",
    "version": 3
   },
   "file_extension": ".py",
   "mimetype": "text/x-python",
   "name": "python",
   "nbconvert_exporter": "python",
   "pygments_lexer": "ipython3",
   "version": "3.11.5"
  },
  "orig_nbformat": 4
 },
 "nbformat": 4,
 "nbformat_minor": 2
}
