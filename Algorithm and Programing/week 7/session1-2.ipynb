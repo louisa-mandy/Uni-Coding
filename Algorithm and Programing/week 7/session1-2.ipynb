{
 "cells": [
  {
   "cell_type": "code",
   "execution_count": null,
   "metadata": {},
   "outputs": [],
   "source": [
    "'''\n",
    "def whatever(*args,**kwargs)\n",
    "arguments = argument \n",
    "keyword arguments = kwargs \n",
    "\n",
    "how to use \\ to skip a line????????\n",
    "\n",
    "'''\n",
    "\n",
    "def orderPizza (size, *toppings, **instructions) : \n",
    "    print (f\"you have ordered a {size} pizza\")\n",
    "    print (f\"with {toppings} toppings\")\n",
    "    for top in toppings:\n",
    "        print(f\"-:{top}\") #will print a list / atorist \n",
    "    print(\"instructions : \")\n",
    "    for k, v in instructions.items():\n",
    "        print(f'-:{k} {v}')\n",
    "\n",
    "size = \"large\"\n",
    "orderPizza(size,\"pepperoni\",\"chesse\",\"pinapple\", note = \": i want it to be warm\", tip = 1000 )\n",
    "\n",
    "int()\n",
    "\n",
    "x = ( 1, 2, 3, 4, 5)\n",
    "print(*x)\n",
    "\n"
   ]
  },
  {
   "cell_type": "code",
   "execution_count": null,
   "metadata": {},
   "outputs": [],
   "source": [
    "# reading and writting files \n",
    "'''\n",
    "open(filename,mode)\n",
    "\n",
    "mode : r,w,a,x\n",
    "filetype = t, b \n",
    "\n",
    "reading from a file \n",
    "    read() - returns a string\n",
    "    readline() - returns a string \n",
    "    readlines() - just reads the file\n",
    "    seek()\n",
    "    close()\n",
    "\n",
    "r = reading\n",
    "w = writting \n",
    "a = append\n",
    "x = create a file \n",
    "'''\n",
    "\n",
    "import os\n",
    "myFile = open(\"C:\\\\Users\\\\Louisa Mandy\\\\OneDrive\\\\Documents\\\\Uni Coding\\\\Algorithm and Programing\\\\week 7\\\\test.txt\", \"r\") # opening a file \n",
    "# make sure to double back slash on your file name \n",
    "\n",
    "''' READ\n",
    "all = myFile.read()\n",
    "print(type(all))\n",
    "print(all)\n",
    "\n",
    "myFile.seek(0) #the first letter from the chosen file \n",
    "all = myFile.read()\n",
    "print(all)\n",
    " \n",
    "myFile.close()\n",
    "'''\n",
    "'''\n",
    "#READ LINE - same thing as read, different way \n",
    "oneLine = myFile.readline()\n",
    "print(type(oneLine))\n",
    "print(oneLine, end=\" \", sep=\" \")\n",
    "\n",
    "oneLine = myFile.readline()\n",
    "print(oneLine) \n",
    "\n",
    "myFile.close()\n",
    "'''\n",
    "\n",
    "\n",
    "#READ LINES \n",
    "allLine = myFile.readlines()\n",
    "print(type(allLine))\n",
    "print(allLine, end=\" \", sep=\" \")\n",
    "\n",
    "allLine = myFile.readlines()\n",
    "print(allLine) \n",
    "\n",
    "myFile.close()\n",
    "\n",
    "\n",
    " "
   ]
  },
  {
   "cell_type": "code",
   "execution_count": null,
   "metadata": {},
   "outputs": [],
   "source": [
    "# write some code to print the contents of the file with line numbers \n",
    "\n",
    "myFile = open(\"C:\\\\Users\\\\Louisa Mandy\\\\OneDrive\\\\Documents\\\\Uni Coding\\\\Algorithm and Programing\\\\week 7\\\\test.txt\", \"r\") \n",
    "# opening a file \n",
    "# make sure to double back slash on your file name \n",
    "\n",
    "lines = 0 \n",
    "\n",
    "oneLine = myFile.readlines()\n",
    "for line in oneLine : #looping \n",
    "    lines+=1\n",
    "    print(f\"{lines}: {line}\", end=\"\")\n",
    "\n",
    "oneLine = myFile.readline()\n",
    "print(oneLine) "
   ]
  },
  {
   "cell_type": "code",
   "execution_count": null,
   "metadata": {},
   "outputs": [],
   "source": [
    "fileOut = open(\"C:\\\\Users\\\\Louisa Mandy\\\\OneDrive\\\\Documents\\\\Uni Coding\\\\Algorithm and Programing\\\\week 7\\\\test.txt\", \"w\")\n",
    "\n",
    "a = 0.1 \n",
    "b = \"this\"\n",
    "c = [ 1, -2 ]\n",
    "\n",
    "fileOut.write('{} {} {}' .format(a,b,c))\n",
    "fileOut.close()"
   ]
  },
  {
   "cell_type": "code",
   "execution_count": null,
   "metadata": {},
   "outputs": [],
   "source": [
    "fileOut = open(\"C:\\\\Users\\\\Louisa Mandy\\\\OneDrive\\\\Documents\\\\Uni Coding\\\\Algorithm and Programing\\\\week 7\\\\test.txt\", \"w\")\n",
    "\n",
    "a = 0.1 \n",
    "b = \"this\"\n",
    "c = [ 1, -2 ]\n",
    "d = (1,True,2.5)\n",
    "\n",
    "fileOut.write\n",
    "print(a,b,c,d, file = fileOut)\n",
    "fileOut.close()"
   ]
  },
  {
   "cell_type": "code",
   "execution_count": null,
   "metadata": {},
   "outputs": [],
   "source": [
    "#exercise add on each line numbers ?\n",
    "\n",
    "myFile = open(\"C:\\\\Users\\\\Louisa Mandy\\\\OneDrive\\\\Documents\\\\Uni Coding\\\\Algorithm and Programing\\\\week 7\\\\test.txt\", \"w\")\n",
    "\n",
    "a = 0.1 \n",
    "b = \"this\"\n",
    "c = [ 1, -2 ]\n",
    "d = (1,True,2.5)\n",
    "\n",
    "#write to a file usng write() function\n",
    "fileOut.write('{} {} {}' .format(a,b,c))\n",
    "\n",
    "#print() function\n",
    "print(a,b,c,d, file = fileOut)\n",
    "\n",
    "for ctr, line in enumerate(open(\"C:\\\\Users\\\\Louisa Mandy\\\\OneDrive\\\\Documents\\\\Uni Coding\\\\Algorithm and Programing\\\\week 7\\\\test.txt\", \"r\")):\n",
    "    myNew.write(\"{:2d}:{}\".format(ctr+1,line))\n",
    "\n",
    "fileOut.close()"
   ]
  },
  {
   "cell_type": "code",
   "execution_count": 8,
   "metadata": {},
   "outputs": [
    {
     "name": "stdout",
     "output_type": "stream",
     "text": [
      "is\n"
     ]
    }
   ],
   "source": [
    "'''\n",
    "#1 file = open(\"input.txt\", \"r\")\n",
    "z = file.readlines()  ans = a list \n",
    "\n",
    "#2 file = open(\"foo.txt\", \"r\")\n",
    "s = file.read()\n",
    "print(s[2])\n",
    "\n",
    "#output = i / nothing\n",
    "\n",
    "\n",
    "#3 file = open(\"foo.txt\", \"r\")\n",
    "file.readline()\n",
    "print(file.readline(), end=\"\")\n",
    "\n",
    "#output = a test.\n",
    "\n",
    "\n",
    "#4 file = open(\"foo.txt\", \"r\")\n",
    "for line in file:\n",
    "    print(line[0], end=\"\")\n",
    "\n",
    "#output = TAi\n",
    "'''\n",
    "\n",
    "#5\n",
    "file = open(\"foo.txt\", \"r\")\n",
    "s = file.read()\n",
    "xlist = s.split()\n",
    "print(xlist[1])\n",
    "#output = is \n",
    "\n",
    "\n",
    "\n",
    "\n",
    "\n",
    "\n",
    "\n",
    "\n",
    "\n",
    "\n"
   ]
  },
  {
   "cell_type": "code",
   "execution_count": 10,
   "metadata": {},
   "outputs": [
    {
     "name": "stdout",
     "output_type": "stream",
     "text": [
      "a test.\n"
     ]
    }
   ],
   "source": [
    "#6\n",
    "file = open(\"foo.txt\")\n",
    "s = file.read()\n",
    "xlist = s.split('\\n')\n",
    "print(xlist[1])\n",
    "#output = a test."
   ]
  },
  {
   "cell_type": "code",
   "execution_count": 11,
   "metadata": {},
   "outputs": [
    {
     "name": "stdout",
     "output_type": "stream",
     "text": [
      "3 0\n"
     ]
    }
   ],
   "source": [
    "#7\n",
    "file = open(\"foo.txt\")\n",
    "xlist = file.readlines()\n",
    "ylist = file.readlines()\n",
    "print(len(xlist), len(ylist))\n",
    "#output = 3 0 \n",
    "# the third line, then after that line \n",
    "# it prints 0 bcus there is nothing after \n",
    "# that"
   ]
  },
  {
   "cell_type": "code",
   "execution_count": 12,
   "metadata": {},
   "outputs": [
    {
     "name": "stdout",
     "output_type": "stream",
     "text": [
      "3 3\n"
     ]
    }
   ],
   "source": [
    "#8 \n",
    "file = open(\"foo.txt\")\n",
    "xlist = file.readlines()\n",
    "file.seek(0)\n",
    "ylist = file.readlines()\n",
    "print(len(ylist), len(ylist))\n",
    "\n",
    "#it prints 3 3"
   ]
  },
  {
   "cell_type": "code",
   "execution_count": 13,
   "metadata": {},
   "outputs": [
    {
     "name": "stdout",
     "output_type": "stream",
     "text": [
      "T:h:i:s: :i:s:\n",
      ":"
     ]
    }
   ],
   "source": [
    "#9\n",
    "file = open(\"foo.txt\")\n",
    "for x in file.readline():\n",
    "    print(x, end=\":\")\n",
    "\n",
    "# it prints T:h:i:s: :i:s:\n",
    ":"
   ]
  },
  {
   "cell_type": "code",
   "execution_count": 14,
   "metadata": {},
   "outputs": [],
   "source": [
    "#10 \n",
    "file = open(\"out.txt\", \"w\")\n",
    "s = \"this\"\n",
    "print(s, \"is a test\", file=file)\n",
    "file.close()\n",
    "\n",
    "# it creates a new file \"out.txt\"\n",
    "# and it prints \"this is a test\" inside the file"
   ]
  },
  {
   "cell_type": "code",
   "execution_count": 15,
   "metadata": {},
   "outputs": [
    {
     "ename": "TypeError",
     "evalue": "TextIOWrapper.write() takes exactly one argument (2 given)",
     "output_type": "error",
     "traceback": [
      "\u001b[1;31m---------------------------------------------------------------------------\u001b[0m",
      "\u001b[1;31mTypeError\u001b[0m                                 Traceback (most recent call last)",
      "\u001b[1;32mc:\\Users\\Louisa Mandy\\OneDrive\\Documents\\Uni Coding\\Algorithm and Programing\\week 7\\session1-2.ipynb Cell 13\u001b[0m line \u001b[0;36m4\n\u001b[0;32m      <a href='vscode-notebook-cell:/c%3A/Users/Louisa%20Mandy/OneDrive/Documents/Uni%20Coding/Algorithm%20and%20Programing/week%207/session1-2.ipynb#X21sZmlsZQ%3D%3D?line=1'>2</a>\u001b[0m file \u001b[39m=\u001b[39m \u001b[39mopen\u001b[39m(\u001b[39m\"\u001b[39m\u001b[39mout.txt\u001b[39m\u001b[39m\"\u001b[39m, \u001b[39m\"\u001b[39m\u001b[39mw\u001b[39m\u001b[39m\"\u001b[39m)\n\u001b[0;32m      <a href='vscode-notebook-cell:/c%3A/Users/Louisa%20Mandy/OneDrive/Documents/Uni%20Coding/Algorithm%20and%20Programing/week%207/session1-2.ipynb#X21sZmlsZQ%3D%3D?line=2'>3</a>\u001b[0m s \u001b[39m=\u001b[39m \u001b[39m\"\u001b[39m\u001b[39mthis\u001b[39m\u001b[39m\"\u001b[39m\n\u001b[1;32m----> <a href='vscode-notebook-cell:/c%3A/Users/Louisa%20Mandy/OneDrive/Documents/Uni%20Coding/Algorithm%20and%20Programing/week%207/session1-2.ipynb#X21sZmlsZQ%3D%3D?line=3'>4</a>\u001b[0m file\u001b[39m.\u001b[39;49mwrite(s, \u001b[39m\"\u001b[39;49m\u001b[39mis a test\u001b[39;49m\u001b[39m\"\u001b[39;49m)\n\u001b[0;32m      <a href='vscode-notebook-cell:/c%3A/Users/Louisa%20Mandy/OneDrive/Documents/Uni%20Coding/Algorithm%20and%20Programing/week%207/session1-2.ipynb#X21sZmlsZQ%3D%3D?line=4'>5</a>\u001b[0m file\u001b[39m.\u001b[39mclose()\n",
      "\u001b[1;31mTypeError\u001b[0m: TextIOWrapper.write() takes exactly one argument (2 given)"
     ]
    }
   ],
   "source": [
    "#11\n",
    "file = open(\"out.txt\", \"w\")\n",
    "s = \"this\"\n",
    "file.write(s, \"is a test\")\n",
    "file.close()\n",
    " \n",
    "#output = error"
   ]
  },
  {
   "cell_type": "code",
   "execution_count": 16,
   "metadata": {},
   "outputs": [],
   "source": [
    "#12\n",
    "\n",
    "file = open(\"out.txt\", \"w\")\n",
    "s = \"this\"\n",
    "file.write(s + \"is a test\")\n",
    "file.close()\n",
    "\n",
    "#output = this is a test "
   ]
  },
  {
   "cell_type": "code",
   "execution_count": 17,
   "metadata": {},
   "outputs": [],
   "source": [
    "#13 \n",
    "\n",
    "file = open(\"out.txt\", \"w\")\n",
    "s = \"this\"\n",
    "file.write(\"{} {}\\n\".format(s, \"is a test\"))\n",
    "file.close()\n",
    "\n",
    "#output = this is a test "
   ]
  },
  {
   "cell_type": "code",
   "execution_count": 7,
   "metadata": {},
   "outputs": [
    {
     "name": "stdout",
     "output_type": "stream",
     "text": [
      "a test.\n"
     ]
    }
   ],
   "source": [
    "#3\n",
    "file = open(\"foo.txt\", \"r\")\n",
    "file.readline()\n",
    "print(file.readline(), end=\"\")\n",
    "\n",
    "#output = a test."
   ]
  },
  {
   "cell_type": "code",
   "execution_count": 6,
   "metadata": {},
   "outputs": [
    {
     "name": "stdout",
     "output_type": "stream",
     "text": [
      "i\n"
     ]
    }
   ],
   "source": [
    "#2\n",
    "file = open(\"foo.txt\", \"r\")\n",
    "s = file.read()\n",
    "print(s[2])"
   ]
  }
 ],
 "metadata": {
  "kernelspec": {
   "display_name": "Python 3",
   "language": "python",
   "name": "python3"
  },
  "language_info": {
   "codemirror_mode": {
    "name": "ipython",
    "version": 3
   },
   "file_extension": ".py",
   "mimetype": "text/x-python",
   "name": "python",
   "nbconvert_exporter": "python",
   "pygments_lexer": "ipython3",
   "version": "3.11.5"
  }
 },
 "nbformat": 4,
 "nbformat_minor": 2
}
