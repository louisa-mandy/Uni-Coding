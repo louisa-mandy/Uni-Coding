{
 "cells": [
  {
   "cell_type": "code",
   "execution_count": 8,
   "metadata": {},
   "outputs": [
    {
     "ename": "ModuleNotFoundError",
     "evalue": "No module named 'PIL'",
     "output_type": "error",
     "traceback": [
      "\u001b[1;31m---------------------------------------------------------------------------\u001b[0m",
      "\u001b[1;31mModuleNotFoundError\u001b[0m                       Traceback (most recent call last)",
      "\u001b[1;32mc:\\Users\\Louisa Mandy\\OneDrive\\Documents\\Uni Coding\\Algorithm and Programing\\week 7\\tarot_card.ipynb Cell 1\u001b[0m line \u001b[0;36m1\n\u001b[0;32m     <a href='vscode-notebook-cell:/c%3A/Users/Louisa%20Mandy/OneDrive/Documents/Uni%20Coding/Algorithm%20and%20Programing/week%207/tarot_card.ipynb#W0sZmlsZQ%3D%3D?line=9'>10</a>\u001b[0m \u001b[39mbreakpoint\u001b[39m()\n\u001b[0;32m     <a href='vscode-notebook-cell:/c%3A/Users/Louisa%20Mandy/OneDrive/Documents/Uni%20Coding/Algorithm%20and%20Programing/week%207/tarot_card.ipynb#W0sZmlsZQ%3D%3D?line=11'>12</a>\u001b[0m \u001b[39mimport\u001b[39;00m \u001b[39mtkinter\u001b[39;00m \u001b[39mas\u001b[39;00m \u001b[39mtk\u001b[39;00m\n\u001b[1;32m---> <a href='vscode-notebook-cell:/c%3A/Users/Louisa%20Mandy/OneDrive/Documents/Uni%20Coding/Algorithm%20and%20Programing/week%207/tarot_card.ipynb#W0sZmlsZQ%3D%3D?line=12'>13</a>\u001b[0m \u001b[39mfrom\u001b[39;00m \u001b[39mPIL\u001b[39;00m \u001b[39mimport\u001b[39;00m ImageTk, Image\n\u001b[0;32m     <a href='vscode-notebook-cell:/c%3A/Users/Louisa%20Mandy/OneDrive/Documents/Uni%20Coding/Algorithm%20and%20Programing/week%207/tarot_card.ipynb#W0sZmlsZQ%3D%3D?line=14'>15</a>\u001b[0m \u001b[39m# Create the main window\u001b[39;00m\n\u001b[0;32m     <a href='vscode-notebook-cell:/c%3A/Users/Louisa%20Mandy/OneDrive/Documents/Uni%20Coding/Algorithm%20and%20Programing/week%207/tarot_card.ipynb#W0sZmlsZQ%3D%3D?line=15'>16</a>\u001b[0m window \u001b[39m=\u001b[39m tk\u001b[39m.\u001b[39mTk()\n",
      "\u001b[1;31mModuleNotFoundError\u001b[0m: No module named 'PIL'"
     ]
    }
   ],
   "source": [
    "#total tarot cards = 78\n",
    "\n",
    "#a number between 0 to 77 \n",
    "# 1 - 22 = major arcana \n",
    "# minor arcana : \n",
    "# 23 - 36 =  wands \n",
    "# 37 - 50 = cups\n",
    "# 51 - 64 = swords \n",
    "# 65 - 78 = pentacles \n",
    "breakpoint()\n",
    "\n",
    "import tkinter as tk\n",
    "from PIL import ImageTk, Image\n",
    "\n",
    "# Create the main window\n",
    "window = tk.Tk()\n",
    "window.title(\"tarot_card\")\n",
    "window.geometry(\"500x300\")\n",
    "\n",
    "# Load the image\n",
    "image = Image.open(\"the_fool.png\")\n",
    "photo = ImageTk.PhotoImage(image)\n",
    "\n",
    "# Label widget to display the image\n",
    "label = tk.Label(window, image=photo)\n",
    "label.pack()\n"
   ]
  }
 ],
 "metadata": {
  "kernelspec": {
   "display_name": "Python 3",
   "language": "python",
   "name": "python3"
  },
  "language_info": {
   "codemirror_mode": {
    "name": "ipython",
    "version": 3
   },
   "file_extension": ".py",
   "mimetype": "text/x-python",
   "name": "python",
   "nbconvert_exporter": "python",
   "pygments_lexer": "ipython3",
   "version": "3.11.5"
  }
 },
 "nbformat": 4,
 "nbformat_minor": 2
}
