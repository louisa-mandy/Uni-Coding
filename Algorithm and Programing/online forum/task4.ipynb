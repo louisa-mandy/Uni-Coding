{
 "cells": [
  {
   "cell_type": "code",
   "execution_count": null,
   "metadata": {},
   "outputs": [],
   "source": [
    "# TASK 4 \n",
    "morse_code = {\n",
    "    'A': '.-', 'B': '-...',\n",
    "    'C': '-.-.', 'D': '-..', 'E': '.',\n",
    "    'F': '..-.', 'G': '--.', 'H': '....',\n",
    "    'I': '..', 'J': '.---', 'K': '-.-',\n",
    "    'L': '.-..', 'M': '--', 'N': '-.',\n",
    "    'O': '---', 'P': '.--.', 'Q': '--.-',\n",
    "    'R': '.-.', 'S': '...', 'T': '-',\n",
    "    'U': '..-', 'V': '...-', 'W': '.--',\n",
    "    'X': '-..-', 'Y': '-.--', 'Z': '--..',\n",
    "    '1': '.----', '2': '..---', '3': '...--',\n",
    "    '4': '....-', '5': '.....', '6': '-....',\n",
    "    '7': '--...', '8': '---..', '9': '----.',\n",
    "    '0': '-----', ', ': '--..--', '.': '.-.-.-',\n",
    "    '?': '..--..', \" \": ' ',\n",
    "}\n",
    "\n",
    "# Create a function for converting a string to Morse code\n",
    "def morse_code_string(input_string):\n",
    "    morse_code_list = []  # To store Morse code\n",
    "\n",
    "    for char in input_string:\n",
    "        char_upper = char.upper()  # For uppercase\n",
    "\n",
    "        if char_upper in morse_code:\n",
    "            morse_code_list.append(morse_code[char_upper])\n",
    "        else:\n",
    "            morse_code_list.append('?')  # ? for unavailable characters\n",
    "\n",
    "    return ' '.join(morse_code_list)  # To add spaces\n",
    "\n",
    "# Get user input\n",
    "input_user = input(\"Enter a string here: \")\n",
    "\n",
    "morse_code2 = morse_code_string(input_user)\n",
    "\n",
    "print(morse_code2)\n"
   ]
  }
 ],
 "metadata": {
  "kernelspec": {
   "display_name": "Python 3",
   "language": "python",
   "name": "python3"
  },
  "language_info": {
   "codemirror_mode": {
    "name": "ipython",
    "version": 3
   },
   "file_extension": ".py",
   "mimetype": "text/x-python",
   "name": "python",
   "nbconvert_exporter": "python",
   "pygments_lexer": "ipython3",
   "version": "3.11.5"
  }
 },
 "nbformat": 4,
 "nbformat_minor": 2
}
