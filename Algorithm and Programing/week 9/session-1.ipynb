{
 "cells": [
  {
   "cell_type": "code",
   "execution_count": null,
   "metadata": {},
   "outputs": [],
   "source": [
    "#implement the python code for the given scenario\n",
    "import math\n",
    "\n",
    "class Circle:\n",
    "    def __init__(self, radius = 1.0, color = \"red\"):\n",
    "        self.__radius = radius \n",
    "        self.__color = color\n",
    "\n",
    "    def getRadius(self):\n",
    "        return self.__radius\n",
    "\n",
    "    def setRadius(self,radius):\n",
    "        if radius > 0:  # if the radius is less than zero, then the radius will always be 1.0\n",
    "            self.__radius = radius \n",
    "    \n",
    "    def getColor(self):\n",
    "        return self.color\n",
    "\n",
    "    def setColor (self,color):\n",
    "        self.__color = color \n",
    "    \n",
    "    def __str__(self):\n",
    "        return f'Circle: Radius: {self.__radius} Color: {self.__color}'\n",
    "\n",
    "    def getArea(self):\n",
    "        return math.pi * math.pow(self.__radius,2)\n",
    "\n"
   ]
  },
  {
   "cell_type": "code",
   "execution_count": null,
   "metadata": {},
   "outputs": [],
   "source": [
    "#Python inheritance\n",
    "\n",
    "class X (object): \n",
    "    pass\n",
    "\n",
    "class Y (object):\n",
    "    pass\n",
    "\n",
    "class Z (object):\n",
    "    pass\n",
    "\n",
    "class A (X,Y): #a is sub of x and y\n",
    "    pass\n",
    "\n",
    "class B (Y,Z):\n",
    "    pass\n",
    "\n",
    "class M (A,B,Z):\n",
    "    pass\n"
   ]
  },
  {
   "cell_type": "code",
   "execution_count": null,
   "metadata": {},
   "outputs": [],
   "source": []
  }
 ],
 "metadata": {
  "language_info": {
   "name": "python"
  }
 },
 "nbformat": 4,
 "nbformat_minor": 2
}
