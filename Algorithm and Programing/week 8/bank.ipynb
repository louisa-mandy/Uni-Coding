{
 "cells": [
  {
   "cell_type": "code",
   "execution_count": null,
   "metadata": {},
   "outputs": [],
   "source": [
    "#making a bank/ account/ customer \n",
    "\n",
    "class Account: \n",
    "    def __init__(self, init_balance=0):\n",
    "        self.__balance = init_balance\n",
    "    \n",
    "    def getBalance(self):\n",
    "        return self.__balance\n",
    "    \n",
    "    def deposit(self,amt):\n",
    "        if amt > 0:\n",
    "            self.__balance += amt \n",
    "            return True \n",
    "        return False\n",
    "    \n",
    "    def withdraw(self,amt):\n",
    "        if amt > 0:\n",
    "            self.__balance  -= amt\n",
    "            return True \n",
    "        return False\n",
    "\n"
   ]
  },
  {
   "cell_type": "code",
   "execution_count": null,
   "metadata": {},
   "outputs": [],
   "source": []
  }
 ],
 "metadata": {
  "language_info": {
   "name": "python"
  }
 },
 "nbformat": 4,
 "nbformat_minor": 2
}
