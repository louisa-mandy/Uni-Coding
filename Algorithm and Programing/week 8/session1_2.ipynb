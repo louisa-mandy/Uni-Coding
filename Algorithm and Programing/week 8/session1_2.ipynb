{
 "cells": [
  {
   "cell_type": "code",
   "execution_count": null,
   "metadata": {},
   "outputs": [],
   "source": [
    "from week8.ipynb import character\n",
    "\n",
    "myChar = Character(\"Kafka\", \"Thunder\", \"Nihility\")\n",
    "\n",
    "priint(myChar.__str__())\n"
   ]
  }
 ],
 "metadata": {
  "language_info": {
   "name": "python"
  }
 },
 "nbformat": 4,
 "nbformat_minor": 2
}
