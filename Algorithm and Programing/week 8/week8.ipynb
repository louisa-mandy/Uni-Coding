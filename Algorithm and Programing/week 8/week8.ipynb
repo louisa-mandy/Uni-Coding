{
 "cells": [
  {
   "cell_type": "code",
   "execution_count": null,
   "metadata": {},
   "outputs": [],
   "source": [
    "    "
   ]
  },
  {
   "cell_type": "code",
   "execution_count": null,
   "metadata": {},
   "outputs": [],
   "source": [
    "#exercise\n",
    "\n",
    "def hapax(stringz):\n",
    "    file = open(stringz,\"r\")\n",
    "    fileread = file.readlines()\n",
    "    w = ''\n",
    "    l = file.read().split()\n",
    "    for x in l:\n",
    "        w = ''\n",
    "        l.remove(x)\n",
    "        for y in l:\n",
    "            w += y\n",
    "        if w.find(x) == -1:\n",
    "            print(x)\n",
    "\n",
    "hapax(\"session1.txt\")"
   ]
  },
  {
   "cell_type": "code",
   "execution_count": null,
   "metadata": {},
   "outputs": [],
   "source": [
    "'''\n",
    "OOP - Object orienting programming \n",
    "\n",
    "Class - bluprint/template used to create objects \n",
    "      - made up of attributes / variables and methods / functions / behaviour  \n",
    "\n",
    "object - an instance of a class \n",
    "\n",
    "Instantiation - creations of an object based on a class\n",
    "\n",
    "Constructor - a special kind of method which has the same name sd the class and is used to invoke the __init__() function\n",
    "'''\n",
    "\n",
    "myStr = str()\n",
    "print(myStr)\n",
    "\n",
    "# it would print str as a class\n",
    "\n",
    "myList = list()\n",
    "print(myList)\n",
    "#prints list as a class"
   ]
  },
  {
   "cell_type": "code",
   "execution_count": 4,
   "metadata": {},
   "outputs": [],
   "source": [
    "class character:\n",
    "    #a class contains variables and function\n",
    "\n",
    "    #variables\n",
    "    hp = 10000\n",
    "    element = \"water\"\n",
    "    path = \"destruction\"\n",
    "    phy_attack = 5000\n",
    "    defense = 100\n",
    "\n",
    "    #initializer\n",
    "    def __init__(self,name=\"\",element=\"\",path=\"\"):\n",
    "        self.name = name\n",
    "        self.element = element \n",
    "        self.path = path \n",
    "\n",
    "\n",
    "    #functions \n",
    "    #setter/mutator functions\n",
    "    def setName(self,hp):\n",
    "        self.hp = hp\n",
    "    def setElement(self,element):\n",
    "        self.element = element\n",
    "    def setPath(self,path):\n",
    "        self.path = path\n",
    "\n",
    "    #getter/accessor functions\n",
    "    def getName(self):\n",
    "        return self.name \n",
    "    def setElement(self):\n",
    "        return self.element\n",
    "    def setElement(self):\n",
    "        return self.path\n",
    "\n"
   ]
  },
  {
   "cell_type": "code",
   "execution_count": null,
   "metadata": {},
   "outputs": [],
   "source": []
  }
 ],
 "metadata": {
  "kernelspec": {
   "display_name": "Python 3",
   "language": "python",
   "name": "python3"
  },
  "language_info": {
   "codemirror_mode": {
    "name": "ipython",
    "version": 3
   },
   "file_extension": ".py",
   "mimetype": "text/x-python",
   "name": "python",
   "nbconvert_exporter": "python",
   "pygments_lexer": "ipython3",
   "version": "3.11.5"
  }
 },
 "nbformat": 4,
 "nbformat_minor": 2
}
